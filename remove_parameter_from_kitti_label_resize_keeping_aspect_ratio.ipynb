{
 "cells": [
  {
   "cell_type": "markdown",
   "metadata": {},
   "source": [
    "## Remover o ultimo campo do label, estão vindo do CVAT 16 campos, mas o formato correto é somente 15"
   ]
  },
  {
   "cell_type": "markdown",
   "metadata": {},
   "source": []
  },
  {
   "cell_type": "code",
   "execution_count": null,
   "metadata": {},
   "outputs": [],
   "source": [
    "import glob\n",
    "import pandas as pd\n",
    "from IPython.display import display, clear_output"
   ]
  },
  {
   "cell_type": "code",
   "execution_count": null,
   "metadata": {},
   "outputs": [],
   "source": [
    "list_folders = ['pintura3']\n",
    "#path = '/Users/flavio/Google Drive/Nao compartilhadas/Jobs/getter/codigos/BRF/videos_camera_fixa_segundo_posicionamento/'\n",
    "path = '/Users/flavio/Downloads/rotulos_madesa_pintura/'\n",
    "\n",
    "labels_folder = '/labels/'\n",
    "\n",
    "for folder in list_folders:\n",
    "    files = glob.glob(path + folder + labels_folder + '*.txt')\n",
    "\n",
    "    for file in files:\n",
    "        label = pd.read_csv(file, sep= ' ', header=None)\n",
    "        \n",
    "        if label.shape[1] == 16:\n",
    "            label = label.drop(columns=[15])\n",
    "            label.to_csv(file,header=None, index=None, sep=' ')"
   ]
  },
  {
   "cell_type": "markdown",
   "metadata": {},
   "source": [
    "## Pegando total de objetos de cada classe"
   ]
  },
  {
   "cell_type": "code",
   "execution_count": null,
   "metadata": {},
   "outputs": [],
   "source": [
    "label = pd.read_csv(files[0], sep= ' ', header=None)\n",
    "for file in files:\n",
    "    label2 = pd.read_csv(file, sep= ' ', header=None)\n",
    "    label = pd.concat([label, label2])"
   ]
  },
  {
   "cell_type": "code",
   "execution_count": null,
   "metadata": {},
   "outputs": [],
   "source": [
    "label[0].value_counts()"
   ]
  },
  {
   "cell_type": "markdown",
   "metadata": {},
   "source": [
    "## Criar txt vazio para imagens que não tem rotulo"
   ]
  },
  {
   "cell_type": "code",
   "execution_count": null,
   "metadata": {},
   "outputs": [],
   "source": [
    "import os\n",
    "import glob\n",
    "\n",
    "list_folders = ['linha_dupla_combinados']\n",
    "#path = '/Users/flavio/Google Drive/Nao compartilhadas/Jobs/getter/codigos/BRF/videos_camera_fixa_segundo_posicionamento/'\n",
    "path = '/Users/flavio/Downloads/rotulos_madesa_pintura/'\n",
    "\n",
    "labels_folder = '/labels/'\n",
    "image_folder = '/images/'\n"
   ]
  },
  {
   "cell_type": "code",
   "execution_count": null,
   "metadata": {},
   "outputs": [],
   "source": [
    "for folder in list_folders:\n",
    "    files = glob.glob(path + folder + image_folder + '*.PNG')#PNG\n",
    "    for image_name in files:\n",
    "        name = image_name.split('/')[-1].split('.PNG')[0]#PNG\n",
    "        label_name = path + folder + labels_folder + name + '.txt'\n",
    "        if os.path.isfile(label_name):\n",
    "            pass\n",
    "        else:\n",
    "            #Criar arquivo de label vazio\n",
    "            with open(label_name, \"w\") as file:\n",
    "                pass"
   ]
  },
  {
   "cell_type": "markdown",
   "metadata": {},
   "source": [
    "## Verificar se BBOXs estão corretos"
   ]
  },
  {
   "cell_type": "code",
   "execution_count": null,
   "metadata": {
    "tags": []
   },
   "outputs": [],
   "source": [
    "import cv2\n",
    "import glob\n",
    "import pandas as pd\n",
    "import matplotlib.pyplot as plt\n",
    "from skimage.io import imsave\n",
    "import numpy as np\n",
    "%matplotlib inline\n",
    "from IPython.display import display, clear_output\n",
    "\n",
    "def desenhar_bounding_box(image, bounding_box):\n",
    "    # Converter as coordenadas para inteiros\n",
    "    x_min = int(bounding_box[0])\n",
    "    y_min = int(bounding_box[1])\n",
    "    x_max = int(bounding_box[2])\n",
    "    y_max = int(bounding_box[3])\n",
    "\n",
    "    # Desenhar o retângulo delimitador na imagem\n",
    "    cv2.rectangle(image, (x_min, y_min), (x_max, y_max), (0, 255, 0), 2)\n",
    "    return image\n"
   ]
  },
  {
   "cell_type": "code",
   "execution_count": null,
   "metadata": {
    "tags": []
   },
   "outputs": [],
   "source": [
    "path = '/Users/flavio/Downloads/rotulos_madesa_pintura/pintura2/'\n",
    "folder_image = '/images/'\n",
    "folder_label = '/labels/'\n",
    "\n",
    "files = glob.glob(path + folder_label + '*.txt')\n",
    "\n",
    "cont=0\n",
    "for label_file in files:\n",
    "    labels = pd.read_csv(label_file, sep= ' ', header=None)\n",
    "    im = plt.imread(path + folder_image + label_file.split('/')[-1].split('.txt')[0] + '.PNG')\n",
    "    \n",
    "    for index, label in labels.iterrows():\n",
    "        im = desenhar_bounding_box(im, list(label[4:8]))\n",
    "    \n",
    "    plt.imshow(im)\n",
    "    plt.show()\n",
    "    if cont==15:\n",
    "        break\n",
    "    cont+=1\n",
    "    "
   ]
  },
  {
   "cell_type": "code",
   "execution_count": null,
   "metadata": {
    "tags": []
   },
   "outputs": [],
   "source": []
  },
  {
   "cell_type": "markdown",
   "metadata": {},
   "source": [
    "## Rotacionar BBOX"
   ]
  },
  {
   "cell_type": "code",
   "execution_count": null,
   "metadata": {},
   "outputs": [],
   "source": [
    "import cv2\n",
    "import glob\n",
    "import pandas as pd\n",
    "import matplotlib.pyplot as plt\n",
    "from skimage.io import imsave\n",
    "import numpy as np\n",
    "%matplotlib inline\n",
    "from IPython.display import display, clear_output\n",
    "\n",
    "def desenhar_bounding_box(image, bounding_box):\n",
    "    # Converter as coordenadas para inteiros\n",
    "    x_min = int(bounding_box[0])\n",
    "    y_min = int(bounding_box[1])\n",
    "    x_max = int(bounding_box[2])\n",
    "    y_max = int(bounding_box[3])\n",
    "\n",
    "    # Desenhar o retângulo delimitador na imagem\n",
    "    cv2.rectangle(image, (x_min, y_min), (x_max, y_max), (0, 255, 0), 2)\n",
    "    return image\n",
    "\n",
    "def rotacionar_coordenadas_bbox(image, bounding_box):\n",
    "    # Obter as dimensões da imagem\n",
    "    altura, largura, _ = image.shape\n",
    "    \n",
    "    x_min, y_min, x_max, y_max = int(bounding_box[0]), int(bounding_box[1]), int(bounding_box[2]), int(bounding_box[3])\n",
    "\n",
    "    # Rotacionar as coordenadas 90 graus\n",
    "    x_min_rot = largura - y_max\n",
    "    y_min_rot = x_min #altura - x_max\n",
    "    x_max_rot = largura - y_min\n",
    "    y_max_rot = x_max#altura - x_min\n",
    "    \n",
    "    return [x_min_rot, y_min_rot, x_max_rot, y_max_rot]\n"
   ]
  },
  {
   "cell_type": "code",
   "execution_count": null,
   "metadata": {},
   "outputs": [],
   "source": [
    "path = '/Users/flavio/Downloads/rotulos_madesa_pintura/teste/'\n",
    "folder_image = '/images/'\n",
    "folder_label = '/labels/'\n",
    "\n",
    "files = glob.glob(path + folder_label + '*.txt')\n",
    "\n",
    "cont=0\n",
    "for label_file in files:\n",
    "    labels = pd.read_csv(label_file, sep= ' ', header=None)\n",
    "    im = plt.imread(path + folder_image + label_file.split('/')[-1].split('.txt')[0] + '.PNG')\n",
    "    #im = cv2.rotate(im, cv2.ROTATE_90_CLOCKWISE)\n",
    "    \n",
    "    #Salvando imagem rotacionada\n",
    "    #imsave(path + folder_image + label_file.split('/')[-1].split('.txt')[0] + '.png', np.uint8(255*im))\n",
    "    \n",
    "    for index, label in labels.iterrows():\n",
    "        new_coords = rotacionar_coordenadas_bbox(im,list(label[4:8]))\n",
    "        labels.loc[index,4] = new_coords[0]\n",
    "        labels.loc[index,5] = new_coords[1]\n",
    "        labels.loc[index,6] = new_coords[2]\n",
    "        labels.loc[index,7] = new_coords[3]\n",
    "        #if len(label.shape) == 1:\n",
    "        #    label.loc[4] = new_coords[0]\n",
    "        #    label.loc[5] = new_coords[1]\n",
    "        #    label.loc[6] = new_coords[2]\n",
    "        #    label.loc[7] = new_coords[3]\n",
    "        #else:\n",
    "        #    label.loc[index][4] = new_coords[0]\n",
    "        #    label.loc[index][5] = new_coords[1]\n",
    "        #    label.loc[index][6] = new_coords[2]\n",
    "        #    label.loc[index][7] = new_coords[3]\n",
    "        \n",
    "        #im = desenhar_bounding_box(im, rotacionar_coordenadas_bbox(im,list(label[4:8])))\n",
    "        #im = desenhar_bounding_box(im, list(label[4:8]))\n",
    "    labels.to_csv(label_file,header=None, index=None, sep=' ')\n",
    "    \n",
    "    #Imprimir na mesma linha\n",
    "    cont+=1\n",
    "    clear_output(wait=True)\n",
    "    print(str(cont), '/', len(files))\n",
    "    \n",
    "    \n",
    "    #plt.imshow(im)\n",
    "    #plt.show()\n",
    "    #if cont==15:\n",
    "    #    break\n",
    "    #cont+=1\n",
    "    "
   ]
  },
  {
   "cell_type": "markdown",
   "metadata": {},
   "source": [
    "## Remover imagens que não rotacionaram pq não tem labels"
   ]
  },
  {
   "cell_type": "code",
   "execution_count": null,
   "metadata": {},
   "outputs": [],
   "source": [
    "import glob\n",
    "import os\n",
    "import matplotlib.pyplot as plt\n",
    "from IPython.display import display, clear_output\n",
    "\n",
    "list_folders = ['video3']#, 'video5', 'video6', 'video7', 'video8', 'video9'] #, 'video10', 'video11', 'video12']\n",
    "path = '/Users/flavio/Downloads/Rotacionar_kitti_format/'\n",
    "image_folder = '/image_2/'\n",
    "\n",
    "for folder in list_folders:\n",
    "    files = glob.glob(path + folder + image_folder + '*.PNG')\n",
    "    cont=0\n",
    "    for im_name in files:\n",
    "        im = plt.imread(im_name)\n",
    "        \n",
    "        if im.shape[0] == 352:\n",
    "            os.remove(im_name)\n",
    "        \n",
    "        cont+=1\n",
    "        clear_output(wait=True)\n",
    "        # Imprimir na mesma linha\n",
    "        print(str(cont), '/', len(files))"
   ]
  },
  {
   "cell_type": "markdown",
   "metadata": {},
   "source": [
    "## Redimensionar as imagens para 640x640 e as coordenadas dos labels mantendo aspect ratio"
   ]
  },
  {
   "cell_type": "markdown",
   "metadata": {},
   "source": [
    "## Redimensionar as imagens para 640x640 e as coordenadas dos labels mantendo aspect ratio"
   ]
  },
  {
   "cell_type": "code",
   "execution_count": 9,
   "metadata": {},
   "outputs": [],
   "source": [
    "import cv2\n",
    "import pandas as pd\n",
    "import numpy as np\n",
    "import glob\n",
    "from IPython.display import display, clear_output"
   ]
  },
  {
   "cell_type": "code",
   "execution_count": 7,
   "metadata": {},
   "outputs": [],
   "source": [
    "def resize_coordenadas_bbox(original_size, new_size, bounding_box):\n",
    "    # Obter as dimensões da imagem\n",
    "    altura, largura, _ = original_size\n",
    "    x_min, y_min, x_max, y_max = int(bounding_box[0]), int(bounding_box[1]), int(bounding_box[2]), int(bounding_box[3])\n",
    "    \n",
    "    x_scale = new_size[0] / largura\n",
    "    y_scale = new_size[1] / altura\n",
    "    # Redimensionar as coordenadas\n",
    "    x_min_resize = int(np.round(x_min * x_scale))\n",
    "    y_min_resize = int(np.round(y_min * y_scale))\n",
    "    x_max_resize = int(np.round(x_max * x_scale))\n",
    "    y_max_resize = int(np.round(y_max * y_scale))\n",
    "    \n",
    "    return [x_min_resize, y_min_resize, x_max_resize, y_max_resize]\n",
    "\n",
    "def make_square_image_keeping_aspect_ratio(im, labels, original_size):\n",
    "    #Pegando maior dimensao\n",
    "    larger_size = original_size[0] if original_size[0] > original_size[1] else original_size[1]\n",
    "    #Definindo novo tamanho\n",
    "    new_size = (larger_size, larger_size, original_size[2])\n",
    "    #Criando imagem toda preta com novo tamanho\n",
    "    new_image = np.zeros(new_size, dtype=np.uint8)\n",
    "    \n",
    "    #Pegando x e y inicial na nova imagem - no cv as coords sao invertidas\n",
    "    Yt = int((new_size[0] - original_size[0])/2)\n",
    "    Xt = int((new_size[1] - original_size[1])/2)\n",
    "    #Criando nova imagem com imagem original centralizada\n",
    "    new_image[Yt:Yt+original_size[0], Xt:Yt+original_size[1], :] = im\n",
    "    \n",
    "    #Alterando o novo labels com BBOXs correto\n",
    "    for index, label in labels.iterrows():\n",
    "        labels.loc[index,4] = labels.loc[index,4] + Xt\n",
    "        labels.loc[index,5] = labels.loc[index,5] + Yt\n",
    "        labels.loc[index,6] = labels.loc[index,6] + Xt\n",
    "        labels.loc[index,7] = labels.loc[index,7] + Yt\n",
    "    \n",
    "    return new_image, labels"
   ]
  },
  {
   "cell_type": "code",
   "execution_count": 8,
   "metadata": {},
   "outputs": [
    {
     "name": "stdout",
     "output_type": "stream",
     "text": [
      "506 / 506\n"
     ]
    }
   ],
   "source": [
    "path = '/home/getter-lab/Vídeos/video_1/'\n",
    "\n",
    "folder_image = '/images/'\n",
    "folder_label = '/labels/'\n",
    "new_size = (324, 324)\n",
    "ext_ori = 'png'\n",
    "ext_save = 'png'\n",
    "\n",
    "files = glob.glob(path + folder_label + '*.txt')\n",
    "cont=0\n",
    "for label_file in files:\n",
    "    labels = pd.read_csv(label_file, sep= ' ', header=None)\n",
    "    im = cv2.imread(path + folder_image + label_file.split('/')[-1].split('.txt')[0] + '.' + ext_ori)\n",
    "    original_size = im.shape\n",
    "    #Deixando imagem quadrada mantendo aspect ratio\n",
    "    new_image_square, labels = make_square_image_keeping_aspect_ratio(im, labels, original_size)\n",
    "        \n",
    "    #Redimensionamento\n",
    "    im = cv2.resize(new_image_square, new_size)\n",
    "    \n",
    "    #Salvando imagem nova_dimensao\n",
    "    cv2.imwrite(path + folder_image + label_file.split('/')[-1].split('.txt')[0] + '.' + ext_save, im)\n",
    "    \n",
    "    for index, label in labels.iterrows():\n",
    "        new_coords = resize_coordenadas_bbox(new_image_square.shape, new_size, list(label[4:8]))\n",
    "        labels.loc[index,4] = new_coords[0]\n",
    "        labels.loc[index,5] = new_coords[1]\n",
    "        labels.loc[index,6] = new_coords[2]\n",
    "        labels.loc[index,7] = new_coords[3]\n",
    "    labels.to_csv(label_file, header=None, index=None, sep=' ')\n",
    "    \n",
    "    #Imprimir na mesma linha\n",
    "    cont+=1\n",
    "    clear_output(wait=True)\n",
    "    print(str(cont), '/', len(files))"
   ]
  },
  {
   "cell_type": "code",
   "execution_count": null,
   "metadata": {
    "tags": []
   },
   "outputs": [],
   "source": []
  },
  {
   "cell_type": "code",
   "execution_count": null,
   "metadata": {
    "tags": []
   },
   "outputs": [],
   "source": []
  },
  {
   "cell_type": "code",
   "execution_count": null,
   "metadata": {
    "tags": []
   },
   "outputs": [],
   "source": []
  },
  {
   "cell_type": "code",
   "execution_count": null,
   "metadata": {
    "tags": []
   },
   "outputs": [],
   "source": []
  },
  {
   "cell_type": "code",
   "execution_count": null,
   "metadata": {
    "tags": []
   },
   "outputs": [],
   "source": []
  },
  {
   "cell_type": "code",
   "execution_count": null,
   "metadata": {},
   "outputs": [],
   "source": []
  }
 ],
 "metadata": {
  "kernelspec": {
   "display_name": "Python 3 (ipykernel)",
   "language": "python",
   "name": "python3"
  },
  "language_info": {
   "codemirror_mode": {
    "name": "ipython",
    "version": 3
   },
   "file_extension": ".py",
   "mimetype": "text/x-python",
   "name": "python",
   "nbconvert_exporter": "python",
   "pygments_lexer": "ipython3",
   "version": "3.10.12"
  }
 },
 "nbformat": 4,
 "nbformat_minor": 4
}
